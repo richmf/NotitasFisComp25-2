import math as m
import numpy as np
import scipy.integrate as sp
import matplotlib.pyplot as plt


def sist_sol(t,x_v):
    # x_v = [x,y,vx,vy]
    dx = x_v[2]
    dy = x_v[3]
    r32 = ( x_v[0]**2 + x_v[1]**2 )**1.5
    dvx = -x_v[0]/r32
    dvy = -x_v[1]/r32
    return np.array([dx,dy,dvx,dvy])

def E_s_sol(x_v):
    # x_v = [x,y,vx,vy]
    K = 0.5*(x_v[2]**2 + x_v[3]**2)
    U = -1/np.sqrt(x_v[0]**2 + x_v[1]**2)
    return K+U

def momento_l(x_v):
    # x_v = [x,y,vx,vy]
    return x_v[0]*x_v[3]- x_v[1]*x_v[2]

def Pot_eff(x_v):
    # x_v = [x,y,vx,vy]
    P_cent = 0.5*momento_l(x_v)**2/(x_v[0]**2 + x_v[1]**2)
    P_grav = -1/np.sqrt(x_v[0]**2 + x_v[1]**2)
    return P_cent + P_grav

def Pot_eff_r(r,ci):
    m_ang = momento_l(ci)
    return (0.5*m_ang**2)/r**2 - 1/r


vx = [0.5,0.8,0.9,1,1.1]
for vxi in vx:
    ci = np.array([1,0,vxi,1])
    Ener = E_s_sol(ci)
    print("E=",Ener)
    plt.hlines(Ener,r[0],r[-1])
P_eff = Pot_eff_r(r,ci)
r = np.linspace(1e-8,5)
plt.plot(r,P_eff)
plt.xlim(r[0],r[-1]),plt.ylim(-1,1)
plt.grid()
plt.show()


t = np.linspace(0,30*np.pi,100)
plt.figure(figsize=(10,10))
n_ci = []
for vxi in vx:
    ci = np.array([1,0,vxi,1])
    Ener = E_s_sol(ci)
    sol = sp.solve_ivp(sist_sol,(t[0],t[-1]),ci,dense_output=True,atol=1e-9,rtol=1e-9)
    tray = sol.sol(t)
    x , y = tray[0] , tray[1]
    x_v_f = sol.sol(t[-1])
    n_ci.append(np.array([x_v_f[0],x_v_f[1],-x_v_f[2],-x_v_f[3]]))
    plt.plot(x,y,label='E=%2.2f' %Ener)
plt.legend()
plt.gca().set_aspect('equal')


t = np.linspace(0,60*np.pi,500)
plt.figure(figsize=(10,10))
for ci in n_ci:
    Ener = E_s_sol(ci)
    sol = sp.solve_ivp(sist_sol,(t[0],t[-1]),ci,dense_output=True,atol=1e-9,rtol=1e-9)
    tray = sol.sol(t)
    x , y = tray[0] , tray[1]
    plt.plot(x,y,label='E=%2.2f' %Ener)
plt.legend()
plt.gca().set_aspect('equal')


t = np.linspace(0,10000*np.pi,500)
for ci in n_ci:
    sol = sp.solve_ivp(sist_sol,(t[0],t[-1]),ci,dense_output=True,atol=1e-5,rtol=1e-5)
    tray = sol.sol(t)
    Ener = E_s_sol(tray)
    print(Ener[0],Ener[-1]-Ener[0])
    plt.plot(t,Ener)
plt.xlim(t[0],t[-1]),plt.ylim(-0.5,0.25)
plt.show()
#plt.gca().set_aspect('equal')




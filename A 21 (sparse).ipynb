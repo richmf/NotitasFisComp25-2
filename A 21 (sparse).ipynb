{
 "cells": [
  {
   "cell_type": "code",
   "execution_count": 1,
   "id": "ab758dcd-59d2-4bf0-8ff7-7f51f533f147",
   "metadata": {},
   "outputs": [],
   "source": [
    "import numpy as np\n",
    "import scipy.sparse as ss\n",
    "import scipy.sparse.linalg as ssl"
   ]
  },
  {
   "cell_type": "code",
   "execution_count": 11,
   "id": "9c7a1b08-fc13-4431-b577-4fa72a0ccab1",
   "metadata": {},
   "outputs": [
    {
     "data": {
      "text/plain": [
       "(array([[0, 3, 0],\n",
       "        [7, 0, 0],\n",
       "        [0, 0, 1]]),\n",
       " array([[21,  0,  0],\n",
       "        [ 0, 21,  0],\n",
       "        [ 0,  0,  1]]))"
      ]
     },
     "execution_count": 11,
     "metadata": {},
     "output_type": "execute_result"
    }
   ],
   "source": [
    "A = np.array( [ [0,3,0] , [7,0,0] , [0,0,1] ] )\n",
    "A, np.dot(A,A)"
   ]
  },
  {
   "cell_type": "code",
   "execution_count": 19,
   "id": "1d40f284-f1ba-45df-9a2b-d7b1a4009d4c",
   "metadata": {},
   "outputs": [
    {
     "data": {
      "text/plain": [
       "<3x3 sparse matrix of type '<class 'numpy.int64'>'\n",
       "\twith 3 stored elements in Compressed Sparse Column format>"
      ]
     },
     "execution_count": 19,
     "metadata": {},
     "output_type": "execute_result"
    }
   ],
   "source": [
    "B = ss.csc_matrix( [ [0,3,0] , [7,0,0] , [0,0,1] ] )\n",
    "B"
   ]
  },
  {
   "cell_type": "code",
   "execution_count": 20,
   "id": "10ba09e6-9643-409e-bd7c-8314ad7ef920",
   "metadata": {},
   "outputs": [
    {
     "data": {
      "text/plain": [
       "<3x3 sparse matrix of type '<class 'numpy.int64'>'\n",
       "\twith 3 stored elements in Compressed Sparse Column format>"
      ]
     },
     "execution_count": 20,
     "metadata": {},
     "output_type": "execute_result"
    }
   ],
   "source": [
    "np.dot(B,B)"
   ]
  },
  {
   "cell_type": "code",
   "execution_count": 21,
   "id": "8da1701e-9e7d-4839-8b52-6a3221c545b2",
   "metadata": {},
   "outputs": [
    {
     "data": {
      "text/plain": [
       "(array([[0, 3, 0],\n",
       "        [7, 0, 0],\n",
       "        [0, 0, 1]]),\n",
       " array([[21,  0,  0],\n",
       "        [ 0, 21,  0],\n",
       "        [ 0,  0,  1]]))"
      ]
     },
     "execution_count": 21,
     "metadata": {},
     "output_type": "execute_result"
    }
   ],
   "source": [
    "B.toarray() , np.dot(B,B).toarray()"
   ]
  },
  {
   "cell_type": "code",
   "execution_count": 23,
   "id": "0f84aada-7c57-498d-8451-35546d89152c",
   "metadata": {},
   "outputs": [],
   "source": [
    "B_inv = ssl.inv(B)"
   ]
  },
  {
   "cell_type": "code",
   "execution_count": 29,
   "id": "868a5ce8-5f5b-49f4-98d6-e1419071a1c7",
   "metadata": {},
   "outputs": [
    {
     "name": "stdout",
     "output_type": "stream",
     "text": [
      "50.4 µs ± 1.63 µs per loop (mean ± std. dev. of 7 runs, 10,000 loops each)\n"
     ]
    }
   ],
   "source": [
    "%%timeit\n",
    "np.dot(B,B_inv).toarray()"
   ]
  },
  {
   "cell_type": "code",
   "execution_count": 30,
   "id": "373f8db9-92ae-4f6b-9f90-18614492884b",
   "metadata": {},
   "outputs": [
    {
     "name": "stdout",
     "output_type": "stream",
     "text": [
      "4.83 µs ± 57 ns per loop (mean ± std. dev. of 7 runs, 100,000 loops each)\n"
     ]
    }
   ],
   "source": [
    "%%timeit\n",
    "B@B_inv.toarray()"
   ]
  },
  {
   "cell_type": "code",
   "execution_count": 45,
   "id": "41038e65-f337-406e-8fcb-6e008cd4460d",
   "metadata": {},
   "outputs": [
    {
     "data": {
      "text/plain": [
       "(array([[ 4, -2,  0,  0],\n",
       "        [-2,  4, -2,  0],\n",
       "        [ 0, -2,  4, -2],\n",
       "        [ 0,  0, -2,  4]]),\n",
       " array([[1, 2, 0, 0],\n",
       "        [2, 1, 2, 0],\n",
       "        [0, 2, 1, 2],\n",
       "        [0, 0, 2, 1]]))"
      ]
     },
     "execution_count": 45,
     "metadata": {},
     "output_type": "execute_result"
    }
   ],
   "source": [
    "C = ss.csc_matrix( [ [4,-2,0,0] , [-2,4,-2,0] , [0,-2,4,-2] , [0,0,-2,4] ] )\n",
    "D = ss.csc_matrix( [ [1,2,0,0] , [2,1,2,0] , [0,2,1,2] , [0,0,2,1] ] )\n",
    "C.toarray(),D.toarray()"
   ]
  },
  {
   "cell_type": "code",
   "execution_count": 46,
   "id": "a151a8d2-1b93-4dba-af0a-f51199a1e67b",
   "metadata": {},
   "outputs": [
    {
     "data": {
      "text/plain": [
       "array([[1. , 1.5, 1. , 0.5],\n",
       "       [1.5, 2. , 2. , 1. ],\n",
       "       [1. , 2. , 2. , 1.5],\n",
       "       [0.5, 1. , 1.5, 1. ]])"
      ]
     },
     "execution_count": 46,
     "metadata": {},
     "output_type": "execute_result"
    }
   ],
   "source": [
    "Cinv = ssl.inv(C)\n",
    "Mat = Cinv@D\n",
    "Mat.toarray()"
   ]
  },
  {
   "cell_type": "code",
   "execution_count": 47,
   "id": "4f367a31-1303-4a82-8f32-683aacc78dbf",
   "metadata": {},
   "outputs": [
    {
     "name": "stdout",
     "output_type": "stream",
     "text": [
      "  (3, 0)\t0.49999999999999994\n",
      "  (2, 0)\t0.9999999999999999\n",
      "  (1, 0)\t1.4999999999999996\n",
      "  (0, 0)\t0.9999999999999998\n",
      "  (3, 1)\t1.0\n",
      "  (2, 1)\t2.0\n",
      "  (1, 1)\t1.9999999999999996\n",
      "  (0, 1)\t1.4999999999999998\n",
      "  (3, 2)\t1.5\n",
      "  (2, 2)\t2.0\n",
      "  (1, 2)\t1.9999999999999996\n",
      "  (0, 2)\t0.9999999999999998\n",
      "  (3, 3)\t1.0\n",
      "  (2, 3)\t1.5\n",
      "  (1, 3)\t0.9999999999999999\n",
      "  (0, 3)\t0.49999999999999994\n"
     ]
    }
   ],
   "source": [
    "print(Mat)"
   ]
  },
  {
   "cell_type": "code",
   "execution_count": 48,
   "id": "f5a6bc67-4cdf-4736-89fc-da4cd69b7da9",
   "metadata": {},
   "outputs": [
    {
     "name": "stdout",
     "output_type": "stream",
     "text": [
      "  (0, 0)\t4\n",
      "  (1, 0)\t-2\n",
      "  (0, 1)\t-2\n",
      "  (1, 1)\t4\n",
      "  (2, 1)\t-2\n",
      "  (1, 2)\t-2\n",
      "  (2, 2)\t4\n",
      "  (3, 2)\t-2\n",
      "  (2, 3)\t-2\n",
      "  (3, 3)\t4\n"
     ]
    }
   ],
   "source": [
    "print(C)"
   ]
  },
  {
   "cell_type": "code",
   "execution_count": null,
   "id": "0457ba18-57d1-49d6-8f7a-7c3c6700bea7",
   "metadata": {},
   "outputs": [],
   "source": []
  }
 ],
 "metadata": {
  "kernelspec": {
   "display_name": "Python 3 (ipykernel)",
   "language": "python",
   "name": "python3"
  },
  "language_info": {
   "codemirror_mode": {
    "name": "ipython",
    "version": 3
   },
   "file_extension": ".py",
   "mimetype": "text/x-python",
   "name": "python",
   "nbconvert_exporter": "python",
   "pygments_lexer": "ipython3",
   "version": "3.9.12"
  }
 },
 "nbformat": 4,
 "nbformat_minor": 5
}

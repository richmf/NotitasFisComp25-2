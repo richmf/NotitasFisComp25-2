import math as m
import numpy as np
import scipy.integrate as sp
import matplotlib.pyplot as plt


def sist_sol(t,x_v):
    # x_v = [x,y,z,vx,vy,vz]
    dx = x_v[3]
    dy = x_v[4]
    dz = x_v[5]
    r32 = ( x_v[0]**2 + x_v[1]**2 + x_v[2]**2 )**1.5
    dvx = -x_v[0]/r32
    dvy = -x_v[1]/r32
    dvz = -x_v[2]/r32
    return np.array([dx,dy,dz,dvx,dvy,dvz])


t = np.linspace(0,4*np.pi,100)
sol = sp.solve_ivp(sist_sol,(t[0],t[-1]),[1,0,0,0.6,1,0],dense_output=True,atol=1e-9,rtol=1e-9)


tray = sol.sol(t)
x , y = tray[0] , tray[1]
plt.plot(x,y,'.')
plt.gca().set_aspect('equal')




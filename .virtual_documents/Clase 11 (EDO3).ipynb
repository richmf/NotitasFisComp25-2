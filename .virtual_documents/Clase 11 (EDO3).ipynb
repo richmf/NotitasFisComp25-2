import math as m
import numpy as np
import matplotlib.pyplot as plt





def pendulo_cff(x , t , args=[0,0,0]):
    # x = (theta, v_theta)
    # args = Amplitud , omega_1 , gamma
    return np.array([ x[1] , -np.sin(x[0]) - args[2]*x[1] + args[0]*np.cos(args[1]*t)])

def RK2(g,x0,t,args=None):
    h , sol = t[1]-t[0] , np.zeros( (len(x0),len(t)) )
    sol[:,0] = x0 #condicion inicial
    for i in range(len(t)-1):
        sol[:,i+1] += sol[:,i]
        x_intermedio = sol[:,i] + 0.5*h*g(sol[:,i],t[i] , args)
        sol[:,i+1] += h*g( x_intermedio , t[i]+0.5*h , args)
    return sol


t = np.arange(0,50*np.pi,0.01)
sol = RK2(pendulo_cff,[0.5,0],t,args=[0.1,1,0.1])
figura , (graf1,graf2) = plt.subplots(1,2,figsize=(10,5))
figura.suptitle('Péndulo')
graf1.set_title(r'$\theta (t)$ vs t')
graf1.plot(t,sol[0,:])
graf1.grid()
graf2.set_title('Espacio fase')
graf2.plot(sol[0,:],sol[1,:])
graf2.set_aspect('equal')





def RK4(g,x0,t,args=None):
    h , sol = t[1]-t[0] , np.zeros( (len(x0),len(t)) )
    sol[:,0] = x0 #condicion inicial
    for i in range(len(t)-1):
        k1 = g(sol[:,i],t[i] , args)
        k2 = g(sol[:,i] + 0.5*h*k1 , t[i]+0.5*h , args)
        k3 = g(sol[:,i] + 0.5*h*k2 , t[i]+0.5*h , args)
        k4 = g(sol[:,i] + h*k3 , t[i]+h , args)
        sol[:,i+1] += sol[:,i] + (k1 + 2*k2 + 2*k3 + k4)*(h/6)
    return sol


t = np.arange(0,50*np.pi,0.01)
sol = RK4(pendulo_cff,[0.5,0],t,args=[0.1,1,0.1])
figura , (graf1,graf2) = plt.subplots(1,2,figsize=(10,5))
figura.suptitle('Péndulo')
graf1.set_title(r'$\theta (t)$ vs t')
graf1.plot(t,sol[0,:])
graf1.grid()
graf2.set_title('Espacio fase')
graf2.plot(sol[0,:],sol[1,:])
graf2.set_aspect('equal')


t = np.arange(0,10*np.pi,0.3)
figura , (graf1,graf2) = plt.subplots(1,2,figsize=(12,5))
figura.suptitle('Péndulo')
graf1.set_title(r'Espacio fase 2º orden')
ci = np.linspace(0.1,np.pi-0.1,10)
for ci_i in ci:
    sol_k2 = RK2(pendulo_cff,[ci_i,0],t,args=[0.0,0.0,0.0])
    sol_k4 = RK4(pendulo_cff,[ci_i,0],t,args=[0.0,0.0,0.0])
    graf1.plot(sol_k2[0,:],sol_k2[1,:])
    graf2.plot(sol_k4[0,:],sol_k4[1,:])

graf2.set_title('Espacio fase 4º orden')
graf1.set_xlim([-np.pi-0.2,np.pi+0.2])
graf1.grid(),graf2.grid()
graf1.set_aspect('equal'),graf2.set_aspect('equal')


t = np.arange(0,10*np.pi,0.1)


%%timeit
sol_k2 = RK2(pendulo_cff,[0.5,0],t,args=[0.0,0.0,0.0])


%%timeit
sol_k4 = RK4(pendulo_cff,[0.5,0],t,args=[0.0,0.0,0.0])


sol_k2 = RK2(pendulo_cff,[0.5,0],t,args=[0.0,0.0,0.0])
sol_k4 = RK4(pendulo_cff,[0.5,0],t,args=[0.0,0.0,0.0])
error_rel = abs(sol_k2[0,:]-sol_k4[0,:])
plt.plot(t,error_rel)
plt.show()


import scipy.integrate as spi


def pendulo_cff2( t , x , args=[0,0,0]):
    # x = (theta, v_theta)
    # args = Amplitud , omega_1 , gamma
    return np.array([ x[1] , -np.sin(x[0]) - args[2]*x[1] + args[0]*np.cos(args[1]*t)])


t = np.arange(0,10*np.pi,0.1)
sol=spi.solve_ivp(pendulo_cff2,(0,10*np.pi),[0.5,0],t_eval=t)


plt.plot(sol.y[0],sol.y[1])
plt.show()


sol=spi.solve_ivp(pendulo_cff2,(0,10*np.pi),[0.5,0],dense_output=True)
sol


t = np.linspace(0,10*np.pi,200)
th_vth = sol.sol(t)
plt.plot(th_vth[0],th_vth[1])
plt.show()


sol=spi.solve_ivp(pendulo_cff2,(0,10*np.pi),[0.5,0],rtol=1e-8,atol=1e-8,dense_output=True)
sol


t = np.linspace(0,10*np.pi,150)
th_vth = sol.sol(t)
plt.plot(th_vth[0],th_vth[1])
plt.show()


t = np.linspace(0,10*np.pi,200)
ci = np.linspace(0.1,np.pi-0.1,15)
for ci_i in ci:
    sol_ivp = spi.solve_ivp(pendulo_cff2,(0,10*np.pi),[ci_i,0],rtol=1e-8,atol=1e-8,dense_output=True)
    th_vth = sol_ivp.sol(t)
    plt.plot(th_vth[0],th_vth[1])

plt.title('Espacio fase del péndulo')
plt.grid()
plt.gca().set_aspect('equal')
plt.show()






